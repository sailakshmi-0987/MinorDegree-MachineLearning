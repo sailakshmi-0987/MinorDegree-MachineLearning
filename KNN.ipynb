{
 "cells": [
  {
   "cell_type": "code",
   "execution_count": 12,
   "id": "8a54be17-c8e2-4f3a-9092-778c6bf84e3d",
   "metadata": {},
   "outputs": [],
   "source": [
    "import numpy as np\n",
    "from scipy.spatial import distance\n",
    "from collections import Counter"
   ]
  },
  {
   "cell_type": "code",
   "execution_count": 13,
   "id": "ba37b76f-62de-4119-9b0c-9f53a3762c07",
   "metadata": {},
   "outputs": [],
   "source": [
    "class KNN:\n",
    "    def __init__(self, k=3):\n",
    "        self.k = k\n",
    "\n",
    "    def fit(self, X, y):\n",
    "        self.X_train = X\n",
    "        self.y_train = y\n",
    "\n",
    "    def distance(self, X1, X2):\n",
    "        return distance.euclidean(X1, X2)\n",
    "\n",
    "    def predict(self, X_test):\n",
    "        final_output = []\n",
    "\n",
    "        for i in range(len(X_test)):\n",
    "            distances = []\n",
    "\n",
    "            # Calculate distance from the i-th test sample to all training samples\n",
    "            for j in range(len(self.X_train)):\n",
    "                dist = self.distance(self.X_train[j], X_test[i])\n",
    "                distances.append((dist, j))\n",
    "\n",
    "            # Sort distances and get k nearest neighbors\n",
    "            distances.sort(key=lambda x: x[0])\n",
    "            neighbors = distances[:self.k]\n",
    "\n",
    "            # Get the labels of the k nearest samples\n",
    "            votes = [self.y_train[j] for _, j in neighbors]\n",
    "\n",
    "            # Most common label among votes\n",
    "            prediction = Counter(votes).most_common(1)[0][0]\n",
    "            final_output.append(prediction)\n",
    "\n",
    "        return np.array(final_output)\n",
    "\n",
    "    def score(self, X_test, y_test):\n",
    "        predictions = self.predict(X_test)\n",
    "        return np.mean(predictions == y_test)"
   ]
  },
  {
   "cell_type": "code",
   "execution_count": 14,
   "id": "ba52ad20-7d7e-4fcd-ac6a-9da4e7422755",
   "metadata": {},
   "outputs": [],
   "source": [
    "from sklearn.datasets import load_iris\n",
    "from sklearn.model_selection import train_test_split"
   ]
  },
  {
   "cell_type": "code",
   "execution_count": 23,
   "id": "58520e79-a5df-41a0-840d-9876cd1bfe61",
   "metadata": {},
   "outputs": [
    {
     "name": "stdout",
     "output_type": "stream",
     "text": [
      "1 0 2 1 1 0 1 2 2 1 2 0 0 0 0 1 2 1 1 2 0 2 0 2 2 2 2 2 0 0 "
     ]
    }
   ],
   "source": [
    "iris=load_iris()\n",
    "X_train,X_test,y_train,y_test = train_test_split(iris.data,iris.target,random_state=42,test_size=0.2)\n",
    "knn = KNN(7)\n",
    "knn.fit(X_train,y_train)\n",
    "prediction=knn.predict(X_test)\n",
    "for i in prediction:\n",
    "    print(i,end=' ')"
   ]
  },
  {
   "cell_type": "code",
   "execution_count": 24,
   "id": "0bef2fa4-1224-4fd4-a86f-4276e3e4cc2d",
   "metadata": {},
   "outputs": [
    {
     "data": {
      "text/plain": [
       "0.9666666666666667"
      ]
     },
     "execution_count": 24,
     "metadata": {},
     "output_type": "execute_result"
    }
   ],
   "source": [
    "knn.score(X_test,y_test)"
   ]
  },
  {
   "cell_type": "code",
   "execution_count": 25,
   "id": "0124b015-55fa-4e57-bfc6-21fd7c83553f",
   "metadata": {},
   "outputs": [
    {
     "data": {
      "text/plain": [
       "array([ True,  True,  True,  True,  True,  True,  True,  True, False,\n",
       "        True,  True,  True,  True,  True,  True,  True,  True,  True,\n",
       "        True,  True,  True,  True,  True,  True,  True,  True,  True,\n",
       "        True,  True,  True])"
      ]
     },
     "execution_count": 25,
     "metadata": {},
     "output_type": "execute_result"
    }
   ],
   "source": [
    "prediction==y_test"
   ]
  },
  {
   "cell_type": "code",
   "execution_count": null,
   "id": "8786be51-7920-4d4a-b2b3-e1632759b68c",
   "metadata": {},
   "outputs": [],
   "source": []
  }
 ],
 "metadata": {
  "kernelspec": {
   "display_name": "Python 3 (ipykernel)",
   "language": "python",
   "name": "python3"
  },
  "language_info": {
   "codemirror_mode": {
    "name": "ipython",
    "version": 3
   },
   "file_extension": ".py",
   "mimetype": "text/x-python",
   "name": "python",
   "nbconvert_exporter": "python",
   "pygments_lexer": "ipython3",
   "version": "3.10.12"
  }
 },
 "nbformat": 4,
 "nbformat_minor": 5
}

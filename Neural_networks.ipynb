{
 "cells": [
  {
   "cell_type": "code",
   "execution_count": 1,
   "id": "36e07aef-51d1-4630-86c4-e6e5b44686ce",
   "metadata": {},
   "outputs": [],
   "source": [
    "import numpy as np\n",
    "\n",
    "# Sigmoid and its derivative\n",
    "def sigmoid(x):\n",
    "    return 1 / (1 + np.exp(-x))\n",
    "\n",
    "def sigmoid_derivative(x):\n",
    "    return x * (1 - x)\n",
    "\n",
    "# Binary cross-entropy loss\n",
    "def binary_cross_entropy(y_true, y_pred):\n",
    "    y_pred = np.clip(y_pred, 1e-9, 1 - 1e-9)  # avoid log(0)\n",
    "    return -np.mean(y_true * np.log(y_pred) + (1 - y_true) * np.log(1 - y_pred))\n",
    "\n",
    "# Neural Network class\n",
    "class NeuralNetwork:\n",
    "    def __init__(self, input_size, hidden_size, output_size, lr=0.1):\n",
    "        self.lr = lr\n",
    "\n",
    "        # Initialize weights\n",
    "        self.w1 = np.random.randn(input_size, hidden_size)\n",
    "        self.b1 = np.zeros((1, hidden_size))\n",
    "        self.w2 = np.random.randn(hidden_size, output_size)\n",
    "        self.b2 = np.zeros((1, output_size))\n",
    "\n",
    "    def forward(self, X):\n",
    "        # Hidden layer\n",
    "        self.z1 = np.dot(X, self.w1) + self.b1\n",
    "        self.a1 = sigmoid(self.z1)\n",
    "\n",
    "        # Output layer\n",
    "        self.z2 = np.dot(self.a1, self.w2) + self.b2\n",
    "        self.a2 = sigmoid(self.z2)\n",
    "\n",
    "        return self.a2\n",
    "\n",
    "    def backward(self, X, y, output):\n",
    "        m = y.shape[0]\n",
    "\n",
    "        # Output layer error\n",
    "        dz2 = output - y\n",
    "        dw2 = (1 / m) * np.dot(self.a1.T, dz2)\n",
    "        db2 = (1 / m) * np.sum(dz2, axis=0, keepdims=True)\n",
    "\n",
    "        # Hidden layer error\n",
    "        dz1 = np.dot(dz2, self.w2.T) * sigmoid_derivative(self.a1)\n",
    "        dw1 = (1 / m) * np.dot(X.T, dz1)\n",
    "        db1 = (1 / m) * np.sum(dz1, axis=0, keepdims=True)\n",
    "\n",
    "        # Update weights\n",
    "        self.w1 -= self.lr * dw1\n",
    "        self.b1 -= self.lr * db1\n",
    "        self.w2 -= self.lr * dw2\n",
    "        self.b2 -= self.lr * db2\n",
    "\n",
    "    def train(self, X, y, epochs=1000):\n",
    "        for epoch in range(epochs):\n",
    "            output = self.forward(X)\n",
    "            loss = binary_cross_entropy(y, output)\n",
    "            self.backward(X, y, output)\n",
    "\n",
    "            if epoch % 100 == 0:\n",
    "                print(f\"Epoch {epoch}, Loss: {loss:.4f}\")\n",
    "\n",
    "    def predict(self, X):\n",
    "        output = self.forward(X)\n",
    "        return (output > 0.5).astype(int)\n"
   ]
  },
  {
   "cell_type": "code",
   "execution_count": 2,
   "id": "ed269e44-405a-4e08-9717-66a89665df3f",
   "metadata": {},
   "outputs": [
    {
     "name": "stdout",
     "output_type": "stream",
     "text": [
      "Epoch 0, Loss: 1.1337\n",
      "Epoch 100, Loss: 0.6482\n",
      "Epoch 200, Loss: 0.5371\n",
      "Epoch 300, Loss: 0.3835\n",
      "Epoch 400, Loss: 0.2312\n",
      "Epoch 500, Loss: 0.1337\n",
      "Epoch 600, Loss: 0.0849\n",
      "Epoch 700, Loss: 0.0595\n",
      "Epoch 800, Loss: 0.0448\n",
      "Epoch 900, Loss: 0.0355\n",
      "Predictions:\n",
      " [0 1 1 0]\n"
     ]
    }
   ],
   "source": [
    "# Sample XOR data\n",
    "X = np.array([[0,0],[0,1],[1,0],[1,1]])\n",
    "y = np.array([[0],[1],[1],[0]])\n",
    "\n",
    "# Initialize and train\n",
    "nn = NeuralNetwork(input_size=2, hidden_size=4, output_size=1, lr=0.5)\n",
    "nn.train(X, y, epochs=1000)\n",
    "\n",
    "# Prediction\n",
    "predictions = nn.predict(X)\n",
    "print(\"Predictions:\\n\", predictions.flatten())\n"
   ]
  },
  {
   "cell_type": "code",
   "execution_count": null,
   "id": "6ba9206e-4745-4f1b-abdf-a7a23c02d73f",
   "metadata": {},
   "outputs": [],
   "source": []
  }
 ],
 "metadata": {
  "kernelspec": {
   "display_name": "Python 3 (ipykernel)",
   "language": "python",
   "name": "python3"
  },
  "language_info": {
   "codemirror_mode": {
    "name": "ipython",
    "version": 3
   },
   "file_extension": ".py",
   "mimetype": "text/x-python",
   "name": "python",
   "nbconvert_exporter": "python",
   "pygments_lexer": "ipython3",
   "version": "3.10.12"
  }
 },
 "nbformat": 4,
 "nbformat_minor": 5
}
